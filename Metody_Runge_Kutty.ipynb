{
  "cells": [
    {
      "cell_type": "markdown",
      "metadata": {
        "id": "view-in-github",
        "colab_type": "text"
      },
      "source": [
        "<a href=\"https://colab.research.google.com/github/mark47B/DiffEq_Task_5/blob/master/Metody_Runge_Kutty.ipynb\" target=\"_parent\"><img src=\"https://colab.research.google.com/assets/colab-badge.svg\" alt=\"Open In Colab\"/></a>"
      ]
    },
    {
      "cell_type": "markdown",
      "source": [
        ""
      ],
      "metadata": {
        "id": "XggpZEL7x6nG"
      }
    },
    {
      "cell_type": "code",
      "execution_count": null,
      "metadata": {
        "id": "fiy9veuP83bd"
      },
      "outputs": [],
      "source": [
        "import numpy as np\n",
        "from matplotlib import pyplot as plt\n",
        "\n",
        "A = 1/14\n",
        "B = 1/15\n",
        "c = 1/14\n",
        "a21 = c\n",
        "b2 = 1.0 / (2.0 * c)  # b2 = 7.0\n",
        "b1 = 1 - b2           # b1 = -6.0\n",
        "y1 = B*np.pi\n",
        "y2 = A*np.pi\n",
        "(x0, xk) = (0,np.pi)\n",
        "s = 2\n",
        "eps = 1e-4\n",
        "\n",
        "y1_pi_true = 0.2544987421377396\n",
        "y2_pi_true = 0.1756247987851049"
      ]
    },
    {
      "cell_type": "code",
      "execution_count": null,
      "metadata": {
        "id": "knZhh08-83bk"
      },
      "outputs": [],
      "source": [
        "def find_c1_c2(x, b1, b2):\n",
        "    k = x / np.sqrt(210)\n",
        "    A_ = [ [ np.cos(k), np.sin(k) ], [ -14/np.sqrt(210)*sin(k), 14/np.sqrt(210)*np.cos(k) ] ]\n",
        "    b_ = [[b1], [b2]]\n",
        "    ans = np.linalg.solve(A_,b_)\n",
        "    c1 = ans[0][0]\n",
        "    c2 = ans[1][0]\n",
        "    return (c1, c2)"
      ]
    },
    {
      "cell_type": "code",
      "execution_count": null,
      "metadata": {
        "id": "maEXA_ia83bn"
      },
      "outputs": [],
      "source": [
        "c1, c2 = find_c1_c2(0, np.pi/15, np.pi/14)"
      ]
    },
    {
      "cell_type": "code",
      "execution_count": null,
      "metadata": {
        "id": "0s9qLYaK83bp",
        "outputId": "f807f8d6-85ae-435f-c838-1395452dd127",
        "colab": {
          "base_uri": "https://localhost:8080/"
        }
      },
      "outputs": [
        {
          "output_type": "stream",
          "name": "stdout",
          "text": [
            "0.20943951023931953 0.23227552411342195\n",
            "0.20943951023931953 0.23227552411342195\n"
          ]
        }
      ],
      "source": [
        "print(np.pi/15, np.pi/14 * np.sqrt(15/14))\n",
        "print(c1, c2)"
      ]
    },
    {
      "cell_type": "code",
      "execution_count": null,
      "metadata": {
        "id": "kmnJ6pPF83br"
      },
      "outputs": [],
      "source": [
        "def general_solution(x, c1:float=c1, c2:float=c2):\n",
        "    y1 = c1 * np.cos(x/np.sqrt(210)) + c2 * np.sin(x/np.sqrt(210))\n",
        "    y2 = -14/np.sqrt(210)*c1*np.sin(x/np.sqrt(210)) + 14/np.sqrt(210)*c2*np.cos(x/np.sqrt(210))\n",
        "    return (y1,y2)"
      ]
    },
    {
      "cell_type": "code",
      "execution_count": null,
      "metadata": {
        "id": "EbVMiorY83bs",
        "outputId": "963a2b01-5038-408b-d195-bc16070dec3a",
        "colab": {
          "base_uri": "https://localhost:8080/"
        }
      },
      "outputs": [
        {
          "output_type": "execute_result",
          "data": {
            "text/plain": [
              "(0.2544987421377396, 0.17562479878510495)"
            ]
          },
          "metadata": {},
          "execution_count": 41
        }
      ],
      "source": [
        "general_solution(np.pi, c1, c2)"
      ]
    },
    {
      "cell_type": "markdown",
      "metadata": {
        "id": "IjA9BvNE83bt"
      },
      "source": [
        "# k1, k2 (с постоянным шагом)"
      ]
    },
    {
      "cell_type": "code",
      "execution_count": null,
      "metadata": {
        "id": "N7IPpwDh83bw",
        "outputId": "5bee953b-40b3-4d94-9da3-463aca4f9bfc",
        "colab": {
          "base_uri": "https://localhost:8080/"
        }
      },
      "outputs": [
        {
          "output_type": "stream",
          "name": "stdout",
          "text": [
            "Начальный шаг = 0.14580534017295163\n"
          ]
        }
      ],
      "source": [
        "delta = pow((1/np.pi),s+1) + pow(np.sqrt((A*A*np.pi)**2 + ((-B)*B*np.pi)**2), s+1)\n",
        "h = pow(eps/delta, 1/3)\n",
        "print(f'Начальный шаг = {h}')"
      ]
    },
    {
      "cell_type": "code",
      "execution_count": null,
      "metadata": {
        "id": "WwoBCIUS83bz"
      },
      "outputs": [],
      "source": [
        "def step(y1, y2, h):\n",
        "    k11 = h*A*y2\n",
        "    k21 = h*(-B)*y1\n",
        "    \n",
        "    k12 = h*A*(y2+a21*k21)\n",
        "    k22 = h*(-B)*(y1+a21*k11)\n",
        "    \n",
        "    return (y1+b1*k11+b2*k12, y2+b1*k21+b2*k22)"
      ]
    },
    {
      "cell_type": "code",
      "execution_count": null,
      "metadata": {
        "id": "fH2VRqTJ83b1",
        "outputId": "5eb56b77-83e9-42bf-c223-c07190f8952a",
        "colab": {
          "base_uri": "https://localhost:8080/"
        }
      },
      "outputs": [
        {
          "output_type": "stream",
          "name": "stdout",
          "text": [
            "Начальный шаг = 0.14580534017295163\n",
            "final estimation with h = 0.14580534017295163, results = (3.141592653589793, 0.25449940210601096, 0.1756239202200542)\n",
            "final estimation with h = 0.07290267008647582, results = (3.141592653589793, 0.2544989088926096, 0.1756245750389829)\n",
            "2.732616346280652e-07\n",
            "Absolute error =  -6.599682713659405e-07 8.785650506826226e-07\n"
          ]
        }
      ],
      "source": [
        "error = 1\n",
        "errors = []\n",
        "\n",
        "differences = []\n",
        "points = []\n",
        "\n",
        "s = 2\n",
        "delta = pow((1/np.pi),s+1) + pow(np.sqrt((A*A*np.pi)**2 + ((-B)*B*np.pi)**2), s+1)\n",
        "h = pow(eps/delta, 1/3)\n",
        "\n",
        "print(f'Начальный шаг = {h}')\n",
        "\n",
        "while error > eps:\n",
        "#for i in range(10): # Поменять на while error > eps когда разберемся с погрешностью\n",
        "    x0 = 0\n",
        "    xk = x0\n",
        "    y_next1 = y1\n",
        "    y_next2 = y2\n",
        "    # сначала с шагом h1 = h\n",
        "    #print(f'============================Epoch = {i}============================')\n",
        "    h1 = h\n",
        "\n",
        "    while xk + h1 < np.pi:\n",
        "        (y_next1, y_next2) = step(y_next1, y_next2, h1)\n",
        "        xk += h1\n",
        "        true_error_1 = y_next1 - general_solution(xk)[0] \n",
        "        true_erorr_2 = y_next2 - general_solution(xk)[1]\n",
        "        differences.append(np.sqrt(true_error_1**2+true_erorr_2**2))\n",
        "        points.append(xk)\n",
        "        \n",
        "        #print(xk)\n",
        "        #print(y_next1, y_next2)\n",
        "\n",
        "        if xk + h1 >= np.pi:\n",
        "            h_final = np.pi - xk\n",
        "            (y_next1, y_next2) = step(y_next1, y_next2, h_final)\n",
        "            xk += h_final\n",
        "            points.append(xk)\n",
        "            true_error_1 = y_next1 - general_solution(xk)[0] \n",
        "            true_erorr_2 = y_next2 - general_solution(xk)[1]\n",
        "            differences.append(np.sqrt(true_error_1**2+true_erorr_2**2))\n",
        "            #print(xk)\n",
        "            #print(y_next1, y_next2)\n",
        "    \n",
        "    res_h1_0, res_h1_1 = (y_next1, y_next2) # y с чертой (-y)\n",
        "    print(f'final estimation with h = {h1}, results = {xk, res_h1_0, res_h1_1}')\n",
        "\n",
        "    xk = x0\n",
        "    y_next1 = y1\n",
        "    y_next2 = y2\n",
        "    h2 = h/2\n",
        "\n",
        "    while xk + h2 < np.pi:\n",
        "        (y_next1, y_next2) = step(y_next1, y_next2, h2)\n",
        "        xk += h2\n",
        "        #print(xk)\n",
        "        #print(y_next1, y_next2)\n",
        "\n",
        "        if xk + h2 >= np.pi:\n",
        "            h_final = np.pi - xk\n",
        "            (y_next1, y_next2) = step(y_next1, y_next2, h_final)\n",
        "            xk += h_final\n",
        "            #print(xk)\n",
        "            #print(y_next1, y_next2)\n",
        "    \n",
        "    res_h2_0, res_h2_1 = (y_next1, y_next2) # y с волной (~y)\n",
        "    print(f'final estimation with h = {h2}, results = {xk, res_h2_0, res_h2_1}')\n",
        "    # -y - h\n",
        "    # ~y - h/2\n",
        "    err1 = (res_h2_0 - res_h1_0)/(pow(2,s)-1) # ~Ri0\n",
        "    err2 = (res_h2_1 - res_h1_1)/(pow(2,s)-1) # ~Ri1\n",
        "    error = np.sqrt(err1**2 + err2**2)\n",
        "    \n",
        "    print(error)\n",
        "    errors.append(error)\n",
        "    print(\"Absolute error = \", y1_pi_true - res_h1_0, y2_pi_true - res_h1_1)\n",
        "    \n",
        "    h /= 2"
      ]
    },
    {
      "cell_type": "markdown",
      "metadata": {
        "id": "nmITPAg783b6"
      },
      "source": [
        "# k1, k2 (с автоматическим выбором шага)"
      ]
    },
    {
      "cell_type": "code",
      "execution_count": null,
      "metadata": {
        "id": "ainAOjhP83b8",
        "outputId": "e5441dc1-bb31-417a-9044-bf631258b5c0",
        "colab": {
          "base_uri": "https://localhost:8080/"
        }
      },
      "outputs": [
        {
          "output_type": "stream",
          "name": "stdout",
          "text": [
            "eps = 0.000100\n",
            "h = 0.072903\n",
            "Starting point y1_0, y2_0: 0.209440, 0.224399\n",
            "xk = 0.000000, h_i = 0.072903 y1_k = 0.21060538, y2_k = 0.22337872\n",
            "xk = 0.072903, h_i = 0.145805 y1_k = 0.21292114, y2_k = 0.22132026\n",
            "xk = 0.218708, h_i = 0.291611 y1_k = 0.21748798, y2_k = 0.21713611\n",
            "xk = 0.510319, h_i = 0.583221 y1_k = 0.22635744, y2_k = 0.20850401\n",
            "xk = 1.093540, h_i = 1.166443 y1_k = 0.24299616, y2_k = 0.19022636\n",
            "y1_k, y2_k before last step =  0.24299615955374118 0.19022636433382928\n",
            "xk =  2.2599827726807504\n",
            "h_final =  0.8816098809090427\n",
            "final result at xk = 3.141592653589793: (0.2545254403000791, 0.175592484326443)\n",
            "Absolute error =  -2.669816233952238e-05 3.2314458661891754e-05\n"
          ]
        }
      ],
      "source": [
        "#print format(floatvalue, '.4f')\n",
        "\n",
        "tol1 = 1e-5\n",
        "tol2 = tol1/pow(2,s)\n",
        "tol3 = tol2/pow(2,s+1)\n",
        "# tol3 < tol2 < tol1 = 10^(-5)\n",
        "\n",
        "xk = x0\n",
        "eps = 1e-04\n",
        "s = 2\n",
        "\n",
        "delta = pow((1/np.pi),s+1) + pow(np.sqrt((A*A*np.pi)**2 + ((-B)*B*np.pi)**2), s+1)\n",
        "h = pow(eps/delta, 1/(s+1)) / 2\n",
        "h_i = h\n",
        "\n",
        "h_list = []\n",
        "points = []\n",
        "\n",
        "print('eps = {:.6f}'.format(eps))\n",
        "print('h = {:.6f}'.format(h))\n",
        "\n",
        "print(\"Starting point y1_0, y2_0: {:.6f}, {:.6f}\".format(y1,y2))\n",
        "(y1_k, y2_k, y1_k_2, y2_k_2) = (y1,y2,y1,y2)\n",
        "\n",
        "while xk + h_i < np.pi:\n",
        "    y1_old = y1_k\n",
        "    y2_old = y2_k\n",
        "    (y1new, y2new) = step(y1_k, y2_k, h_i) # шаг с шагом h\n",
        "    \n",
        "    h_i2 = h_i / 2\n",
        "    (y1newdva, y2newdva) = step(y1_k, y2_k, h_i2) # шаг с шагом h/2\n",
        "    (y1_k_2, y2_k_2) = step(y1newdva, y2newdva, h_i2) # шаг с шагом h/2\n",
        "    \n",
        "    (y1_k, y2_k) = (y1new, y2new) # новые найденные знач-я y1_k, y2_k\n",
        "    \n",
        "    err1 = (y1_k_2 - y1_k)/(1 - pow(2, -s)) # ~Ri0\n",
        "    err2 = (y2_k_2 - y2_k)/(1 - pow(2, -s)) # ~Ri1\n",
        "    error = np.sqrt(err1**2 + err2**2)\n",
        "    \n",
        "    if (error > eps * pow(2,s)):\n",
        "        h_i /= 2\n",
        "        print('h_i has been decreased by 2')\n",
        "        y1_k = y1_old\n",
        "        y2_k = y2_old\n",
        "        y1_k_2 = y1_old\n",
        "        y2_k_2 = y2_old\n",
        "    \n",
        "    elif (error > eps and error <= eps * pow(2, s)):\n",
        "        print('xk = {:.6f}, h_i = {:.6f}'.format(xk, h_i), end = ' ')\n",
        "        points.append(xk)\n",
        "        h_list.append(h_i)\n",
        "        y1_k = y1_k_2\n",
        "        y2_k = y2_k_2\n",
        "        xk += h_i\n",
        "        h_i /= 2       \n",
        "        #roo = pow((y1_k - y1real(x0)) * (y1_k - y1real(x0)) + (y2_k - y2real(x0)) * (y2_k - y2real(x0)), 0.5);\n",
        "        #print(f'xk = {xk}, errors = {abs(roo), abs(error)}') \n",
        "        # y1real, y2real - трушные значения решения в точке Pi (из общего решения руками найти)\n",
        "    \n",
        "    elif (error >= eps / pow(2,s+1) and error <= eps):\n",
        "        print('xk = {:.6f}, h_i = {:.6f}'.format(xk, h_i), end = ' ')\n",
        "        points.append(xk)\n",
        "        h_list.append(h_i)\n",
        "        y1_k = y1new\n",
        "        y2_k = y2new\n",
        "        xk += h_i\n",
        "        h_i = h_i\n",
        "        #roo = pow((y1_k - y1real(x0)) * (y1_k - y1real(x0)) + (y2_k - y2real(x0)) * (y2_k - y2real(x0)), 0.5);\n",
        "        #print(f'xk = {xk}, errors = {abs(roo), abs(error)}')\n",
        "        \n",
        "    else:\n",
        "        print('xk = {:.6f}, h_i = {:.6f}'.format(xk,h_i), end = ' ')\n",
        "        points.append(xk)\n",
        "        h_list.append(h_i)\n",
        "        y1_k = y1new\n",
        "        y2_k = y2new\n",
        "        xk += h_i\n",
        "        h_i = h_i * 2\n",
        "\n",
        "        #roo = pow((y1_k - y1real(x0)) * (y1_k - y1real(x0)) + (y2_k - y2real(x0)) * (y2_k - y2real(x0)), 0.5);\n",
        "        #print(f'xk = {xk}, errors = {abs(roo), abs(error)}')\n",
        "\n",
        "    print('y1_k = {:.8f}, y2_k = {:.8f}'.format(y1_k, y2_k))\n",
        "        \n",
        "# now final step to reach xk = pi\n",
        "print('y1_k, y2_k before last step = ', y1_k, y2_k)\n",
        "h_final = np.pi - xk\n",
        "print('xk = ', xk)\n",
        "print('h_final = ', h_final)\n",
        "h_list.append(h_final)\n",
        "points.append(np.pi)\n",
        "(y1new, y2new) = step(y1_k, y2_k, h_final)\n",
        "(y1_k, y2_k) = (y1new, y2new)\n",
        "print(f'final result at xk = {xk + h_final}: {y1_k, y2_k}')\n",
        "\n",
        "print(\"Absolute error = \", y1_pi_true - y1_k, y2_pi_true - y2_k)"
      ]
    },
    {
      "cell_type": "markdown",
      "metadata": {
        "id": "8OhKD9R483b-"
      },
      "source": [
        "# k1, k2, k3 (с постоянным шагом)"
      ]
    },
    {
      "cell_type": "code",
      "execution_count": null,
      "metadata": {
        "id": "Qj8juJlu83b-"
      },
      "outputs": [],
      "source": [
        "def step_k1k2k3(y1, y2, h):\n",
        "    k11 = h*A*y2\n",
        "    k21 = h*(-B)*y1\n",
        "    \n",
        "    k12 = h*A*(y2+1/2*k21)\n",
        "    k22 = h*(-B)*(y1+1/2*k11)\n",
        "\n",
        "    k31 = h*A*(y2-k21+2*k22)\n",
        "    k32 = h*(-B)*(y1-k11+2*k12)\n",
        "    \n",
        "    return (y1+1/6*(k11+4*k12+k31), y2+1/6*(k21+4*k22+k32))"
      ]
    },
    {
      "cell_type": "code",
      "execution_count": null,
      "metadata": {
        "scrolled": true,
        "id": "I57DUl6m83b_",
        "outputId": "1793c822-4a45-4a22-c562-e5f717bde275",
        "colab": {
          "base_uri": "https://localhost:8080/"
        }
      },
      "outputs": [
        {
          "output_type": "stream",
          "name": "stdout",
          "text": [
            "Начальный шаг = 0.21356510045261798\n",
            "xk =  0.21356510045261798\n",
            "0.21283977763010567 0.22139328311922093\n",
            "xk =  0.42713020090523596\n",
            "0.21619381901864357 0.21833900729652933\n",
            "xk =  0.6406953013578539\n",
            "0.2195009059516197 0.2152373111369011\n",
            "xk =  0.8542604018104719\n",
            "0.22276032017361103 0.21208886828796664\n",
            "xk =  1.0678255022630898\n",
            "0.22597135378308061 0.20889436255011737\n",
            "xk =  1.2813906027157078\n",
            "0.22913330938612445 0.2056544877279931\n",
            "xk =  1.4949557031683258\n",
            "0.23224550024793603 0.2023699474797969\n",
            "xk =  1.7085208036209438\n",
            "0.23530725044195622 0.1990414551644697\n",
            "xk =  1.9220859040735618\n",
            "0.23831789499667544 0.19566973368675825\n",
            "xk =  2.1356510045261796\n",
            "0.24127678004005665 0.19225551534020954\n",
            "xk =  2.3492161049787974\n",
            "0.24418326294154769 0.18879954164812643\n",
            "xk =  2.562781205431415\n",
            "0.24703671245165212 0.18530256320251848\n",
            "xk =  2.776346305884033\n",
            "0.24983650883902822 0.1817653395010832\n",
            "xk =  2.9899114063366508\n",
            "0.2525820440250864 0.17818863878225324\n",
            "0.2544987350676926 0.17562479378418278\n",
            "final estimation with h = 0.21356510045261798, results = (3.141592653589793, 0.2544987350676926, 0.17562479378418278)\n",
            "xk =  0.10678255022630899\n",
            "0.21114537644166131 0.2229024308954024\n",
            "xk =  0.21356510045261798\n",
            "0.212839777991141 0.22139328350441081\n",
            "xk =  0.32034765067892695\n",
            "0.21452262288610272 0.21987211502627502\n",
            "xk =  0.42713020090523596\n",
            "0.21619381975238727 0.2183390080565452\n",
            "xk =  0.5339127511315449\n",
            "0.21785327784829359 0.21679404583900092\n",
            "xk =  0.6406953013578539\n",
            "0.21950090706950576 0.2152373122611314\n",
            "xk =  0.7474778515841629\n",
            "0.22113661795398543 0.21366889184958043\n",
            "xk =  0.8542604018104719\n",
            "0.2227603216868294 0.2120888697655569\n",
            "xk =  0.9610429520367809\n",
            "0.22437193010509207 0.21049733180021077\n",
            "xk =  1.0678255022630898\n",
            "0.22597135570257235 0.20889436436997472\n",
            "xk =  1.1746080524893987\n",
            "0.2275585116345651 0.20728005451187212\n",
            "xk =  1.2813906027157076\n",
            "0.2291333117225767 0.20565448987879104\n",
            "xk =  1.3881731529420165\n",
            "0.23069567045900402 0.2040177587347249\n",
            "xk =  1.4949557031683254\n",
            "0.23224550301177754 0.20236994994998012\n",
            "xk =  1.6017382533946343\n",
            "0.23378272522896737 0.20071115299635045\n",
            "xk =  1.7085208036209432\n",
            "0.23530725364335256 0.1990414579422591\n",
            "xk =  1.815303353847252\n",
            "0.23681900547695306 0.19736095544786814\n",
            "xk =  1.922085904073561\n",
            "0.23831789864552447 0.19566973676015584\n",
            "xk =  2.02886845429987\n",
            "0.23980385176301489 0.19396789370796236\n",
            "xk =  2.1356510045261787\n",
            "0.24127678414598408 0.19225551869700352\n",
            "xk =  2.2424335547524876\n",
            "0.24273661581798428 0.19053270470485353\n",
            "xk =  2.3492161049787965\n",
            "0.24418326751390276 0.18879954527589643\n",
            "xk =  2.4559986552051054\n",
            "0.24561666068426571 0.18705613451624692\n",
            "xk =  2.5627812054314143\n",
            "0.2470367174995033 0.18530256708864068\n",
            "xk =  2.669563755657723\n",
            "0.24844336085417554 0.18353893820729436\n",
            "xk =  2.776346305884032\n",
            "0.24983651437115903 0.18176534363273575\n",
            "xk =  2.883128856110341\n",
            "0.25121610240579395 0.17998187966660417\n",
            "xk =  2.98991140633665\n",
            "0.2525820500499914 0.1781886431464216\n",
            "xk =  3.0966939565629588\n",
            "0.2539342831363008 0.1763857314403346\n",
            "xk =  3.141592653589793\n",
            "0.2544987412339581 0.1756247981536208\n",
            "final estimation with h = 0.10678255022630899, results = (3.141592653589793, 0.2544987412339581, 0.1756247981536208)\n",
            "1.0796335255396173e-09\n",
            "Absolute error =  7.070046992296852e-09 5.000922120856899e-09\n"
          ]
        }
      ],
      "source": [
        "error = 1\n",
        "errors = []\n",
        "\n",
        "differences_k1k2k3 = []\n",
        "points_k1k2k3 = []\n",
        "\n",
        "s = 3\n",
        "delta = pow((1/np.pi),s+1) + pow(np.sqrt((A*A*np.pi)**2 + ((-B)*B*np.pi)**2), s+1)\n",
        "h = pow(eps/delta, 1/3)\n",
        "print(f'Начальный шаг = {h}')\n",
        "\n",
        "while error > eps: # Поменять на while error > eps когда разберемся с погрешностью\n",
        "#for i in range(10):\n",
        "    x0 = 0\n",
        "    xk = x0\n",
        "    y_next1 = y1\n",
        "    y_next2 = y2\n",
        "    # сначала с шагом h1 = h\n",
        "    #print(f'============================Epoch = {i}============================')\n",
        "    h1 = h\n",
        "\n",
        "    while xk + h1 < np.pi:\n",
        "        (y_next1, y_next2) = step_k1k2k3(y_next1, y_next2, h1)\n",
        "        xk += h1\n",
        "        points_k1k2k3.append(xk)\n",
        "        true_error_1 = y_next1 - general_solution(xk)[0] \n",
        "        true_erorr_2 = y_next2 - general_solution(xk)[1]\n",
        "        differences_k1k2k3.append(np.sqrt(true_error_1**2+true_erorr_2**2))\n",
        "        \n",
        "        print('xk = ', xk)\n",
        "        print(y_next1, y_next2)\n",
        "\n",
        "        if xk + h1 >= np.pi:\n",
        "            h_final = np.pi - xk\n",
        "            (y_next1, y_next2) = step_k1k2k3(y_next1, y_next2, h_final)\n",
        "            xk += h_final\n",
        "            points_k1k2k3.append(xk)\n",
        "            true_error_1 = y_next1 - general_solution(xk)[0] \n",
        "            true_erorr_2 = y_next2 - general_solution(xk)[1]\n",
        "            differences_k1k2k3.append(np.sqrt(true_error_1**2+true_erorr_2**2))\n",
        "            #print(xk)\n",
        "            print(y_next1, y_next2)\n",
        "    \n",
        "    res_h1_0, res_h1_1 = (y_next1, y_next2) # y с чертой (-y)\n",
        "    print(f'final estimation with h = {h1}, results = {xk, res_h1_0, res_h1_1}')\n",
        "\n",
        "    xk = x0\n",
        "    y_next1 = y1\n",
        "    y_next2 = y2\n",
        "    h2 = h/2\n",
        "\n",
        "    while xk + h2 < np.pi:\n",
        "        (y_next1, y_next2) = step_k1k2k3(y_next1, y_next2, h2)\n",
        "        xk += h2\n",
        "        print('xk = ', xk)\n",
        "        print(y_next1, y_next2)\n",
        "\n",
        "        if xk + h2 >= np.pi:\n",
        "            h_final = np.pi - xk\n",
        "            (y_next1, y_next2) = step_k1k2k3(y_next1, y_next2, h_final)\n",
        "            xk += h_final\n",
        "            print('xk = ', xk)\n",
        "            print(y_next1, y_next2)\n",
        "    \n",
        "    res_h2_0, res_h2_1 = (y_next1, y_next2) # y с волной (~y)\n",
        "    print(f'final estimation with h = {h2}, results = {xk, res_h2_0, res_h2_1}')\n",
        "    # -y - h\n",
        "    # ~y - h/2\n",
        "    err1 = (res_h2_0 - res_h1_0)/(pow(2,s)-1) # ~Ri0\n",
        "    err2 = (res_h2_1 - res_h1_1)/(pow(2,s)-1) # ~Ri1\n",
        "    error = np.sqrt(err1**2 + err2**2)\n",
        "    \n",
        "    print(error)\n",
        "    errors.append(error)\n",
        "    \n",
        "    h /= 2\n",
        "\n",
        "print(\"Absolute error = \", y1_pi_true - res_h1_0, y2_pi_true - res_h1_1)\n",
        "#print(\"Absolute error = \", y1_pi_true - y1_k, y2_pi_true - y2_k)"
      ]
    },
    {
      "cell_type": "markdown",
      "metadata": {
        "id": "mKS9Lj-X83cB"
      },
      "source": [
        "# k1, k2, k3 (с автоматическим выбором шага)"
      ]
    },
    {
      "cell_type": "code",
      "execution_count": null,
      "metadata": {
        "id": "NFlTqv0u83cB",
        "outputId": "edab3875-ee76-4f7c-df39-2ef25eb8ccb9",
        "colab": {
          "base_uri": "https://localhost:8080/"
        }
      },
      "outputs": [
        {
          "output_type": "stream",
          "name": "stdout",
          "text": [
            "eps = 0.000100\n",
            "h = 0.157079\n",
            "Starting point y1_0, y2_0: 0.209440, 0.224399\n",
            "xk = 0.000000, h_i = 0.157079 y1_k = 0.21194490, y2_k = 0.22219310\n",
            "xk = 0.157079, h_i = 0.314158 y1_k = 0.21688068, y2_k = 0.21770229\n",
            "xk = 0.471237, h_i = 0.628315 y1_k = 0.22644417, y2_k = 0.20841588\n",
            "xk = 1.099552, h_i = 1.256631 y1_k = 0.24427661, y2_k = 0.18868560\n",
            "y1_k, y2_k before last step =  0.24427661074171492 0.18868560153967717\n",
            "xk =  2.356182774433398\n",
            "h_final =  0.7854098791563953\n",
            "final result at xk = 3.141592653589793: (0.2544980461595508, 0.17562425012462737)\n",
            "Absolute error =  6.959781888027372e-07 5.486604775228887e-07\n"
          ]
        }
      ],
      "source": [
        "#print format(floatvalue, '.4f')\n",
        "\n",
        "tol1 = 1e-5\n",
        "tol2 = tol1/pow(2,s)\n",
        "tol3 = tol2/pow(2,s+1)\n",
        "# tol3 < tol2 < tol1 = 10^(-5)\n",
        "\n",
        "xk = x0\n",
        "eps = 1e-04\n",
        "s = 3\n",
        "\n",
        "delta = pow((1/np.pi),s+1) + pow(np.sqrt((A*A*np.pi)**2 + ((-B)*B*np.pi)**2), s+1)\n",
        "h = pow(eps/delta, 1/(s+1)) / 2\n",
        "h_i = h\n",
        "\n",
        "h_list_k1k2k3 = []\n",
        "points_k1k2k3 = []\n",
        "\n",
        "print('eps = {:.6f}'.format(eps))\n",
        "print('h = {:.6f}'.format(h))\n",
        "\n",
        "print(\"Starting point y1_0, y2_0: {:.6f}, {:.6f}\".format(y1,y2))\n",
        "(y1_k, y2_k, y1_k_2, y2_k_2) = (y1,y2,y1,y2)\n",
        "\n",
        "while xk + h_i < np.pi:\n",
        "    y1_old = y1_k\n",
        "    y2_old = y2_k\n",
        "    (y1new, y2new) = step_k1k2k3(y1_k, y2_k, h_i) # шаг с шагом h\n",
        "    \n",
        "    h_i2 = h_i / 2\n",
        "    (y1newdva, y2newdva) = step_k1k2k3(y1_k, y2_k, h_i2) # шаг с шагом h/2\n",
        "    (y1_k_2, y2_k_2) = step_k1k2k3(y1newdva, y2newdva, h_i2) # шаг с шагом h/2\n",
        "    \n",
        "    (y1_k, y2_k) = (y1new, y2new) # новые найденные знач-я y1_k, y2_k\n",
        "    \n",
        "    err1 = (y1_k_2 - y1_k)/(1 - pow(2, -s)) # ~Ri0\n",
        "    err2 = (y2_k_2 - y2_k)/(1 - pow(2, -s)) # ~Ri1\n",
        "    error = np.sqrt(err1**2 + err2**2)\n",
        "    \n",
        "    if (error > eps * pow(2,s)):\n",
        "        h_i /= 2\n",
        "        print('h_i has been decreased by 2')\n",
        "        y1_k = y1_old\n",
        "        y2_k = y2_old\n",
        "        y1_k_2 = y1_old\n",
        "        y2_k_2 = y2_old\n",
        "    \n",
        "    elif (error > eps and error <= eps * pow(2, s)):\n",
        "        print('xk = {:.6f}, h_i = {:.6f}'.format(xk, h_i), end = ' ')\n",
        "        points_k1k2k3.append(xk)\n",
        "        h_list_k1k2k3.append(h_i)\n",
        "        y1_k = y1_k_2\n",
        "        y2_k = y2_k_2\n",
        "        xk += h_i\n",
        "        h_i /= 2       \n",
        "        #roo = pow((y1_k - y1real(x0)) * (y1_k - y1real(x0)) + (y2_k - y2real(x0)) * (y2_k - y2real(x0)), 0.5);\n",
        "        #print(f'xk = {xk}, errors = {abs(roo), abs(error)}') \n",
        "        # y1real, y2real - трушные значения решения в точке Pi (из общего решения руками найти)\n",
        "    \n",
        "    elif (error >= eps / pow(2,s+1) and error <= eps):\n",
        "        print('xk = {:.6f}, h_i = {:.6f}'.format(xk, h_i), end = ' ')\n",
        "        points_k1k2k3.append(xk)\n",
        "        h_list_k1k2k3.append(h_i)\n",
        "        y1_k = y1new\n",
        "        y2_k = y2new\n",
        "        xk += h_i\n",
        "        h_i = h_i\n",
        "        #roo = pow((y1_k - y1real(x0)) * (y1_k - y1real(x0)) + (y2_k - y2real(x0)) * (y2_k - y2real(x0)), 0.5);\n",
        "        #print(f'xk = {xk}, errors = {abs(roo), abs(error)}')\n",
        "        \n",
        "    else:\n",
        "        print('xk = {:.6f}, h_i = {:.6f}'.format(xk,h_i), end = ' ')\n",
        "        points_k1k2k3.append(xk)\n",
        "        h_list_k1k2k3.append(h_i)\n",
        "        y1_k = y1new\n",
        "        y2_k = y2new\n",
        "        xk += h_i\n",
        "        h_i = h_i * 2\n",
        "\n",
        "        #roo = pow((y1_k - y1real(x0)) * (y1_k - y1real(x0)) + (y2_k - y2real(x0)) * (y2_k - y2real(x0)), 0.5);\n",
        "        #print(f'xk = {xk}, errors = {abs(roo), abs(error)}')\n",
        "\n",
        "    print('y1_k = {:.8f}, y2_k = {:.8f}'.format(y1_k, y2_k))\n",
        "        \n",
        "# now final step to reach xk = pi\n",
        "print('y1_k, y2_k before last step = ', y1_k, y2_k)\n",
        "h_final = np.pi - xk\n",
        "print('xk = ', xk)\n",
        "print('h_final = ', h_final)\n",
        "h_list_k1k2k3.append(h_final)\n",
        "points_k1k2k3.append(np.pi)\n",
        "(y1new, y2new) = step_k1k2k3(y1_k, y2_k, h_final)\n",
        "(y1_k, y2_k) = (y1new, y2new)\n",
        "print(f'final result at xk = {xk + h_final}: {y1_k, y2_k}')\n",
        "\n",
        "print(\"Absolute error = \", y1_pi_true - y1_k, y2_pi_true - y2_k)"
      ]
    },
    {
      "cell_type": "markdown",
      "metadata": {
        "id": "pZv5sDw983cD"
      },
      "source": [
        "# S3. Графики"
      ]
    },
    {
      "cell_type": "markdown",
      "metadata": {
        "id": "DKhk5e1C83cD"
      },
      "source": [
        "# 3.2"
      ]
    },
    {
      "cell_type": "markdown",
      "metadata": {
        "id": "Tmr8z0Ii83cE"
      },
      "source": [
        "Графики зависимости истинной полной погрешности от значения независимой переменной $x$ при \n",
        "интегрировании с полученным шагом $h$"
      ]
    },
    {
      "cell_type": "code",
      "execution_count": null,
      "metadata": {
        "id": "cd3N4fMn83cF",
        "outputId": "2de7da03-ef3e-4cbc-a6b8-6b78cbfa03ba",
        "colab": {
          "base_uri": "https://localhost:8080/",
          "height": 646
        }
      },
      "outputs": [
        {
          "output_type": "error",
          "ename": "ValueError",
          "evalue": "ignored",
          "traceback": [
            "\u001b[0;31m---------------------------------------------------------------------------\u001b[0m",
            "\u001b[0;31mValueError\u001b[0m                                Traceback (most recent call last)",
            "\u001b[0;32m<ipython-input-49-f900cc5430db>\u001b[0m in \u001b[0;36m<module>\u001b[0;34m()\u001b[0m\n\u001b[1;32m      1\u001b[0m \u001b[0mplt\u001b[0m\u001b[0;34m.\u001b[0m\u001b[0mtitle\u001b[0m\u001b[0;34m(\u001b[0m\u001b[0;34m'k1, k2'\u001b[0m\u001b[0;34m)\u001b[0m\u001b[0;34m\u001b[0m\u001b[0;34m\u001b[0m\u001b[0m\n\u001b[0;32m----> 2\u001b[0;31m \u001b[0mplt\u001b[0m\u001b[0;34m.\u001b[0m\u001b[0mplot\u001b[0m\u001b[0;34m(\u001b[0m\u001b[0mpoints\u001b[0m\u001b[0;34m,\u001b[0m \u001b[0mdifferences\u001b[0m\u001b[0;34m,\u001b[0m \u001b[0mc\u001b[0m\u001b[0;34m=\u001b[0m\u001b[0;34m'blue'\u001b[0m\u001b[0;34m,\u001b[0m \u001b[0mls\u001b[0m \u001b[0;34m=\u001b[0m \u001b[0;34m'--'\u001b[0m\u001b[0;34m)\u001b[0m\u001b[0;34m\u001b[0m\u001b[0;34m\u001b[0m\u001b[0m\n\u001b[0m\u001b[1;32m      3\u001b[0m \u001b[0mplt\u001b[0m\u001b[0;34m.\u001b[0m\u001b[0mscatter\u001b[0m\u001b[0;34m(\u001b[0m\u001b[0mpoints\u001b[0m\u001b[0;34m,\u001b[0m \u001b[0mdifferences\u001b[0m\u001b[0;34m,\u001b[0m \u001b[0mcolor\u001b[0m\u001b[0;34m=\u001b[0m\u001b[0;34m'red'\u001b[0m\u001b[0;34m)\u001b[0m\u001b[0;34m\u001b[0m\u001b[0;34m\u001b[0m\u001b[0m\n\u001b[1;32m      4\u001b[0m \u001b[0mplt\u001b[0m\u001b[0;34m.\u001b[0m\u001b[0mxlabel\u001b[0m\u001b[0;34m(\u001b[0m\u001b[0;34m'$x$'\u001b[0m\u001b[0;34m)\u001b[0m\u001b[0;34m\u001b[0m\u001b[0;34m\u001b[0m\u001b[0m\n\u001b[1;32m      5\u001b[0m \u001b[0mplt\u001b[0m\u001b[0;34m.\u001b[0m\u001b[0mylabel\u001b[0m\u001b[0;34m(\u001b[0m\u001b[0;34m'error'\u001b[0m\u001b[0;34m)\u001b[0m\u001b[0;34m\u001b[0m\u001b[0;34m\u001b[0m\u001b[0m\n",
            "\u001b[0;32m/usr/local/lib/python3.7/dist-packages/matplotlib/pyplot.py\u001b[0m in \u001b[0;36mplot\u001b[0;34m(scalex, scaley, data, *args, **kwargs)\u001b[0m\n\u001b[1;32m   2761\u001b[0m     return gca().plot(\n\u001b[1;32m   2762\u001b[0m         *args, scalex=scalex, scaley=scaley, **({\"data\": data} if data\n\u001b[0;32m-> 2763\u001b[0;31m         is not None else {}), **kwargs)\n\u001b[0m\u001b[1;32m   2764\u001b[0m \u001b[0;34m\u001b[0m\u001b[0m\n\u001b[1;32m   2765\u001b[0m \u001b[0;34m\u001b[0m\u001b[0m\n",
            "\u001b[0;32m/usr/local/lib/python3.7/dist-packages/matplotlib/axes/_axes.py\u001b[0m in \u001b[0;36mplot\u001b[0;34m(self, scalex, scaley, data, *args, **kwargs)\u001b[0m\n\u001b[1;32m   1645\u001b[0m         \"\"\"\n\u001b[1;32m   1646\u001b[0m         \u001b[0mkwargs\u001b[0m \u001b[0;34m=\u001b[0m \u001b[0mcbook\u001b[0m\u001b[0;34m.\u001b[0m\u001b[0mnormalize_kwargs\u001b[0m\u001b[0;34m(\u001b[0m\u001b[0mkwargs\u001b[0m\u001b[0;34m,\u001b[0m \u001b[0mmlines\u001b[0m\u001b[0;34m.\u001b[0m\u001b[0mLine2D\u001b[0m\u001b[0;34m)\u001b[0m\u001b[0;34m\u001b[0m\u001b[0;34m\u001b[0m\u001b[0m\n\u001b[0;32m-> 1647\u001b[0;31m         \u001b[0mlines\u001b[0m \u001b[0;34m=\u001b[0m \u001b[0;34m[\u001b[0m\u001b[0;34m*\u001b[0m\u001b[0mself\u001b[0m\u001b[0;34m.\u001b[0m\u001b[0m_get_lines\u001b[0m\u001b[0;34m(\u001b[0m\u001b[0;34m*\u001b[0m\u001b[0margs\u001b[0m\u001b[0;34m,\u001b[0m \u001b[0mdata\u001b[0m\u001b[0;34m=\u001b[0m\u001b[0mdata\u001b[0m\u001b[0;34m,\u001b[0m \u001b[0;34m**\u001b[0m\u001b[0mkwargs\u001b[0m\u001b[0;34m)\u001b[0m\u001b[0;34m]\u001b[0m\u001b[0;34m\u001b[0m\u001b[0;34m\u001b[0m\u001b[0m\n\u001b[0m\u001b[1;32m   1648\u001b[0m         \u001b[0;32mfor\u001b[0m \u001b[0mline\u001b[0m \u001b[0;32min\u001b[0m \u001b[0mlines\u001b[0m\u001b[0;34m:\u001b[0m\u001b[0;34m\u001b[0m\u001b[0;34m\u001b[0m\u001b[0m\n\u001b[1;32m   1649\u001b[0m             \u001b[0mself\u001b[0m\u001b[0;34m.\u001b[0m\u001b[0madd_line\u001b[0m\u001b[0;34m(\u001b[0m\u001b[0mline\u001b[0m\u001b[0;34m)\u001b[0m\u001b[0;34m\u001b[0m\u001b[0;34m\u001b[0m\u001b[0m\n",
            "\u001b[0;32m/usr/local/lib/python3.7/dist-packages/matplotlib/axes/_base.py\u001b[0m in \u001b[0;36m__call__\u001b[0;34m(self, *args, **kwargs)\u001b[0m\n\u001b[1;32m    214\u001b[0m                 \u001b[0mthis\u001b[0m \u001b[0;34m+=\u001b[0m \u001b[0margs\u001b[0m\u001b[0;34m[\u001b[0m\u001b[0;36m0\u001b[0m\u001b[0;34m]\u001b[0m\u001b[0;34m,\u001b[0m\u001b[0;34m\u001b[0m\u001b[0;34m\u001b[0m\u001b[0m\n\u001b[1;32m    215\u001b[0m                 \u001b[0margs\u001b[0m \u001b[0;34m=\u001b[0m \u001b[0margs\u001b[0m\u001b[0;34m[\u001b[0m\u001b[0;36m1\u001b[0m\u001b[0;34m:\u001b[0m\u001b[0;34m]\u001b[0m\u001b[0;34m\u001b[0m\u001b[0;34m\u001b[0m\u001b[0m\n\u001b[0;32m--> 216\u001b[0;31m             \u001b[0;32myield\u001b[0m \u001b[0;32mfrom\u001b[0m \u001b[0mself\u001b[0m\u001b[0;34m.\u001b[0m\u001b[0m_plot_args\u001b[0m\u001b[0;34m(\u001b[0m\u001b[0mthis\u001b[0m\u001b[0;34m,\u001b[0m \u001b[0mkwargs\u001b[0m\u001b[0;34m)\u001b[0m\u001b[0;34m\u001b[0m\u001b[0;34m\u001b[0m\u001b[0m\n\u001b[0m\u001b[1;32m    217\u001b[0m \u001b[0;34m\u001b[0m\u001b[0m\n\u001b[1;32m    218\u001b[0m     \u001b[0;32mdef\u001b[0m \u001b[0mget_next_color\u001b[0m\u001b[0;34m(\u001b[0m\u001b[0mself\u001b[0m\u001b[0;34m)\u001b[0m\u001b[0;34m:\u001b[0m\u001b[0;34m\u001b[0m\u001b[0;34m\u001b[0m\u001b[0m\n",
            "\u001b[0;32m/usr/local/lib/python3.7/dist-packages/matplotlib/axes/_base.py\u001b[0m in \u001b[0;36m_plot_args\u001b[0;34m(self, tup, kwargs)\u001b[0m\n\u001b[1;32m    340\u001b[0m \u001b[0;34m\u001b[0m\u001b[0m\n\u001b[1;32m    341\u001b[0m         \u001b[0;32mif\u001b[0m \u001b[0mx\u001b[0m\u001b[0;34m.\u001b[0m\u001b[0mshape\u001b[0m\u001b[0;34m[\u001b[0m\u001b[0;36m0\u001b[0m\u001b[0;34m]\u001b[0m \u001b[0;34m!=\u001b[0m \u001b[0my\u001b[0m\u001b[0;34m.\u001b[0m\u001b[0mshape\u001b[0m\u001b[0;34m[\u001b[0m\u001b[0;36m0\u001b[0m\u001b[0;34m]\u001b[0m\u001b[0;34m:\u001b[0m\u001b[0;34m\u001b[0m\u001b[0;34m\u001b[0m\u001b[0m\n\u001b[0;32m--> 342\u001b[0;31m             raise ValueError(f\"x and y must have same first dimension, but \"\n\u001b[0m\u001b[1;32m    343\u001b[0m                              f\"have shapes {x.shape} and {y.shape}\")\n\u001b[1;32m    344\u001b[0m         \u001b[0;32mif\u001b[0m \u001b[0mx\u001b[0m\u001b[0;34m.\u001b[0m\u001b[0mndim\u001b[0m \u001b[0;34m>\u001b[0m \u001b[0;36m2\u001b[0m \u001b[0;32mor\u001b[0m \u001b[0my\u001b[0m\u001b[0;34m.\u001b[0m\u001b[0mndim\u001b[0m \u001b[0;34m>\u001b[0m \u001b[0;36m2\u001b[0m\u001b[0;34m:\u001b[0m\u001b[0;34m\u001b[0m\u001b[0;34m\u001b[0m\u001b[0m\n",
            "\u001b[0;31mValueError\u001b[0m: x and y must have same first dimension, but have shapes (6,) and (22,)"
          ]
        },
        {
          "output_type": "display_data",
          "data": {
            "text/plain": [
              "<Figure size 432x288 with 1 Axes>"
            ],
            "image/png": "[encoded data removed]"
          },
          "metadata": {
            "needs_background": "light"
          }
        }
      ],
      "source": [
        "plt.title('k1, k2')\n",
        "plt.plot(points, differences, c='blue', ls = '--')\n",
        "plt.scatter(points, differences, color='red')\n",
        "plt.xlabel('$x$')\n",
        "plt.ylabel('error')\n",
        "plt.grid()"
      ]
    },
    {
      "cell_type": "code",
      "execution_count": null,
      "metadata": {
        "id": "Mf0YsKnO83cG"
      },
      "outputs": [],
      "source": [
        "plt.title('k1, k2, k3')\n",
        "plt.plot(points_k1k2k3, differences_k1k2k3, c='blue', ls = '--')\n",
        "plt.scatter(points_k1k2k3, differences_k1k2k3, color='red')\n",
        "plt.xlabel('$x$')\n",
        "plt.ylabel('error')\n",
        "plt.grid()"
      ]
    },
    {
      "cell_type": "markdown",
      "metadata": {
        "id": "pcxkEySt83cH"
      },
      "source": [
        "# 3.3.1"
      ]
    },
    {
      "cell_type": "markdown",
      "metadata": {
        "id": "HkMV_WXk83cI"
      },
      "source": [
        "Графики зависимости величины шага интегрирования $h$ от значения независимой \n",
        "переменной $x$"
      ]
    },
    {
      "cell_type": "code",
      "execution_count": null,
      "metadata": {
        "id": "JkpywL_C83cJ"
      },
      "outputs": [],
      "source": [
        "plt.scatter(points, h_list, color='red', label = 'k1k2')\n",
        "plt.plot(points, h_list, c='blue', ls = '--')\n",
        "\n",
        "plt.scatter(points_k1k2k3, h_list_k1k2k3, label = 'k1k2k3', c = 'orange')\n",
        "plt.plot(points_k1k2k3, h_list_k1k2k3, c = 'purple', ls = '--')\n",
        "\n",
        "plt.xlabel('$x$')\n",
        "plt.ylabel('$h_i$')\n",
        "plt.grid()\n",
        "plt.legend(loc='best')"
      ]
    },
    {
      "cell_type": "markdown",
      "metadata": {
        "id": "xo29VlMT83cK"
      },
      "source": [
        "# 3.3.2"
      ]
    },
    {
      "cell_type": "markdown",
      "metadata": {
        "id": "hhmNbDNs83cK"
      },
      "source": [
        "Графики зависимости отношения __истинной локальной погрешности__ / __к полученной \n",
        "оценке локальной погрешности__ от значения независимой переменной $x$ (см. формулу (91))."
      ]
    },
    {
      "cell_type": "markdown",
      "metadata": {
        "id": "5IOAiln483cK"
      },
      "source": [
        "## k1, k2"
      ]
    },
    {
      "cell_type": "code",
      "execution_count": null,
      "metadata": {
        "id": "WIo8rP9U83cK"
      },
      "outputs": [],
      "source": [
        "eps_points = []\n",
        "num_calculations_k1k2 = []\n",
        "x0 = 0\n",
        "s = 2\n",
        "\n",
        "for i in range(1, 10):\n",
        "    eps = np.pow(10, -i)\n",
        "    \n",
        "    # --- 3.3.2 -------------------------------------------------\n",
        "    if eps == np.pow(10, -5):\n",
        "        points_xk_332_k1k2 = []\n",
        "        errors_ratio_332_k1k2 = []\n",
        "        \n",
        "        points_xk_332_k1k2.append(0)\n",
        "        errors_ratio_332_k1k2.append(0)\n",
        "        \n",
        "        y1_prev = B*np.pi \n",
        "        y2_prev = A*np.pi \n",
        "    # -----------------------------------------------------------\n",
        "    \n",
        "    eps_points.append(eps)\n",
        "    cnt = 0\n",
        "    error = 1\n",
        "    xk = x0\n",
        "    delta = pow((1/np.pi),s+1) + pow(np.sqrt((A*A*np.pi)**2 + ((-B)*B*np.pi)**2), s+1)\n",
        "    h = pow(eps/delta, 1/(s+1))\n",
        "    h_i = h\n",
        "\n",
        "    #h_list_k1k2k3 = []\n",
        "    #points_k1k2k3 = []\n",
        "\n",
        "    print('eps = {:.6f}'.format(eps))\n",
        "    print('h = {:.6f}'.format(h))\n",
        "\n",
        "    print(\"Starting point y1_0, y2_0: {:.6f}, {:.6f}\".format(y1,y2))\n",
        "    (y1_k, y2_k, y1_k_2, y2_k_2) = (y1,y2,y1,y2)\n",
        "    \n",
        "    while xk + h_i < np.pi:\n",
        "        y1_old = y1_k\n",
        "        y2_old = y2_k\n",
        "        (y1new, y2new) = step(y1_k, y2_k, h_i) # шаг с шагом h\n",
        "\n",
        "        h_i2 = h_i / 2\n",
        "        (y1newdva, y2newdva) = step(y1_k, y2_k, h_i2) # шаг с шагом h/2\n",
        "        (y1_k_2, y2_k_2) = step(y1newdva, y2newdva, h_i2) # шаг с шагом h/2\n",
        "        cnt += 3\n",
        "        \n",
        "        (y1_k, y2_k) = (y1new, y2new) # новые найденные знач-я y1_k, y2_k\n",
        "\n",
        "        err1 = (y1_k_2 - y1_k)/(1 - pow(2, -s)) # ~Ri0\n",
        "        err2 = (y2_k_2 - y2_k)/(1 - pow(2, -s)) # ~Ri1\n",
        "        error = np.sqrt(err1**2 + err2**2)\n",
        "\n",
        "        if (error > eps * pow(2,s)):\n",
        "            h_i /= 2\n",
        "            print('h_i has been decreased by 2')\n",
        "            y1_k = y1_old\n",
        "            y2_k = y2_old\n",
        "            y1_k_2 = y1_old\n",
        "            y2_k_2 = y2_old\n",
        "\n",
        "        elif (error > eps and error <= eps * pow(2, s)):\n",
        "            print('xk = {:.6f}, h_i = {:.6f}'.format(xk, h_i), end = ' ')\n",
        "            y1_k = y1_k_2\n",
        "            y2_k = y2_k_2\n",
        "            xk += h_i\n",
        "            h_i /= 2       \n",
        "\n",
        "        elif (error >= eps / pow(2,s+1) and error <= eps):\n",
        "            print('xk = {:.6f}, h_i = {:.6f}'.format(xk, h_i), end = ' ')\n",
        "            y1_k = y1new\n",
        "            y2_k = y2new\n",
        "            xk += h_i\n",
        "            h_i = h_i\n",
        "\n",
        "        else:\n",
        "            print('xk = {:.6f}, h_i = {:.6f}'.format(xk,h_i), end = ' ')\n",
        "            y1_k = y1new\n",
        "            y2_k = y2new\n",
        "            xk += h_i\n",
        "            h_i = h_i * 2\n",
        "\n",
        "        print('y1_k = {:.8f}, y2_k = {:.8f}'.format(y1_k, y2_k)) \n",
        "\n",
        "        # --- 3.3.2 -------------------------------------------------\n",
        "        if eps == 10**(-5):\n",
        "            c1, c2 = find_c1_c2(points_xk_332_k1k2[-1], y1_prev, y2_prev)\n",
        "            points_xk_332_k1k2.append(xk)\n",
        "            y1_t, y2_t = general_solution(points_xk_332_k1k2[-1], c1, c2)\n",
        "            \n",
        "            loc_err = np.sqrt((y1_k-y1_t)**2 + (y2_k-y2_t)**2)\n",
        "            errors_ratio_332_k1k2.append(loc_err / error)\n",
        "            \n",
        "            y1_prev = y1_k\n",
        "            y2_prev = y2_k\n",
        "        # -----------------------------------------------------------\n",
        "        #print('h before last step = ', h)\n",
        "        \n",
        "    # now final step to reach xk = pi\n",
        "    print('y1_k, y2_k before last step = ', y1_k, y2_k)\n",
        "    h_final = np.pi - xk\n",
        "    print('xk = ', xk)\n",
        "    print('h_final = ', h_final)\n",
        "    (y1new, y2new) = step(y1_k, y2_k, h_final)\n",
        "    (y1_k, y2_k) = (y1new, y2new)\n",
        "    cnt += 3\n",
        "    print(f'final result at xk = {xk + h_final}: {y1_k, y2_k}')\n",
        "    # --------------- для 3.3.2 --------------------------------\n",
        "    if eps == np.pow(10, -5):\n",
        "        c1, c2 = find_c1_c2(points_xk_332_k1k2[-1], y1_prev, y2_prev)\n",
        "        points_xk_332_k1k2.append(xk + h_final)\n",
        "        y1_t, y2_t = general_solution(points_xk_332_k1k2[-1], c1, c2)\n",
        "\n",
        "        loc_err = np.sqrt((y1_k-y1_t)**2 + (y2_k-y2_t)**2)\n",
        "        errors_ratio_332_k1k2.append(loc_err / error)\n",
        "\n",
        "        y1_prev = y1_k\n",
        "        y2_prev = y2_k\n",
        "    # ---------------------------------------------------------\n",
        "    num_calculations_k1k2.append(cnt)\n",
        "    print(\"Absolute error = \", y1_pi_true - y1_k, y2_pi_true - y2_k)\n",
        "    print()"
      ]
    },
    {
      "cell_type": "markdown",
      "metadata": {
        "id": "tTBo2yta83cN"
      },
      "source": [
        "## k1, k2, k3"
      ]
    },
    {
      "cell_type": "code",
      "execution_count": null,
      "metadata": {
        "id": "TKl7xaKX83cN"
      },
      "outputs": [],
      "source": [
        "eps_points = []\n",
        "num_calculations_k1k2k3 = []\n",
        "x0 = 0\n",
        "s = 3\n",
        "\n",
        "for i in range(1, 10):\n",
        "    eps = np.pow(10, -i)\n",
        "    \n",
        "    # --- 3.3.2 -------------------------------------------------\n",
        "    if eps == np.pow(10, -5):\n",
        "        points_xk_332_k1k2k3 = []\n",
        "        errors_ratio_332_k1k2k3 = []\n",
        "        \n",
        "        points_xk_332_k1k2k3.append(0)\n",
        "        errors_ratio_332_k1k2k3.append(0)\n",
        "        \n",
        "        y1_prev = B*np.pi \n",
        "        y2_prev = A*np.pi \n",
        "    # -----------------------------------------------------------\n",
        "    \n",
        "    eps_points.append(eps)\n",
        "    cnt = 0\n",
        "    error = 1\n",
        "    xk = x0\n",
        "    delta = pow((1/np.pi),s+1) + pow(np.sqrt((A*A*np.pi)**2 + ((-B)*B*np.pi)**2), s+1)\n",
        "    h = pow(eps/delta, 1/(s+1))\n",
        "    h_i = h\n",
        "\n",
        "    #h_list_k1k2k3 = []\n",
        "    #points_k1k2k3 = []\n",
        "\n",
        "    print('eps = {:.6f}'.format(eps))\n",
        "    print('h = {:.6f}'.format(h))\n",
        "\n",
        "    print(\"Starting point y1_0, y2_0: {:.6f}, {:.6f}\".format(y1,y2))\n",
        "    (y1_k, y2_k, y1_k_2, y2_k_2) = (y1,y2,y1,y2)\n",
        "    \n",
        "    while xk + h_i < np.pi:\n",
        "        y1_old = y1_k\n",
        "        y2_old = y2_k\n",
        "        (y1new, y2new) = step_k1k2k3(y1_k, y2_k, h_i) # шаг с шагом h\n",
        "\n",
        "        h_i2 = h_i / 2\n",
        "        (y1newdva, y2newdva) = step_k1k2k3(y1_k, y2_k, h_i2) # шаг с шагом h/2\n",
        "        (y1_k_2, y2_k_2) = step_k1k2k3(y1newdva, y2newdva, h_i2) # шаг с шагом h/2\n",
        "        cnt += 3\n",
        "        \n",
        "        (y1_k, y2_k) = (y1new, y2new) # новые найденные знач-я y1_k, y2_k\n",
        "\n",
        "        err1 = (y1_k_2 - y1_k)/(1 - pow(2, -s)) # ~Ri0\n",
        "        err2 = (y2_k_2 - y2_k)/(1 - pow(2, -s)) # ~Ri1\n",
        "        error = np.sqrt(err1**2 + err2**2)\n",
        "\n",
        "        if (error > eps * pow(2,s)):\n",
        "            h_i /= 2\n",
        "            print('h_i has been decreased by 2')\n",
        "            y1_k = y1_old\n",
        "            y2_k = y2_old\n",
        "            y1_k_2 = y1_old\n",
        "            y2_k_2 = y2_old\n",
        "\n",
        "        elif (error > eps and error <= eps * pow(2, s)):\n",
        "            print('xk = {:.6f}, h_i = {:.6f}'.format(xk, h_i), end = ' ')\n",
        "            y1_k = y1_k_2\n",
        "            y2_k = y2_k_2\n",
        "            xk += h_i\n",
        "            h_i /= 2       \n",
        "\n",
        "        elif (error >= eps / pow(2,s+1) and error <= eps):\n",
        "            print('xk = {:.6f}, h_i = {:.6f}'.format(xk, h_i), end = ' ')\n",
        "            y1_k = y1new\n",
        "            y2_k = y2new\n",
        "            xk += h_i\n",
        "            h_i = h_i\n",
        "\n",
        "        else:\n",
        "            print('xk = {:.6f}, h_i = {:.6f}'.format(xk,h_i), end = ' ')\n",
        "            y1_k = y1new\n",
        "            y2_k = y2new\n",
        "            xk += h_i\n",
        "            h_i = h_i * 2\n",
        "\n",
        "        print('y1_k = {:.8f}, y2_k = {:.8f}'.format(y1_k, y2_k)) \n",
        "\n",
        "        # --- 3.3.2 -------------------------------------------------\n",
        "        if eps == 10**(-5):\n",
        "            c1, c2 = find_c1_c2(points_xk_332_k1k2k3[-1], y1_prev, y2_prev)\n",
        "            points_xk_332_k1k2k3.append(xk)\n",
        "            y1_t, y2_t = general_solution(points_xk_332_k1k2k3[-1], c1, c2)\n",
        "            \n",
        "            loc_err = np.sqrt((y1_k-y1_t)**2 + (y2_k-y2_t)**2)\n",
        "            errors_ratio_332_k1k2k3.append(loc_err / error)\n",
        "            \n",
        "            y1_prev = y1_k\n",
        "            y2_prev = y2_k\n",
        "        # -----------------------------------------------------------\n",
        "        #print('h before last step = ', h)\n",
        "        \n",
        "    # now final step to reach xk = pi\n",
        "    print('y1_k, y2_k before last step = ', y1_k, y2_k)\n",
        "    h_final = np.pi - xk\n",
        "    print('xk = ', xk)\n",
        "    print('h_final = ', h_final)\n",
        "    (y1new, y2new) = step_k1k2k3(y1_k, y2_k, h_final)\n",
        "    (y1_k, y2_k) = (y1new, y2new)\n",
        "    cnt += 3\n",
        "    print(f'final result at xk = {xk + h_final}: {y1_k, y2_k}')\n",
        "    # --------------- для 3.3.2 --------------------------------\n",
        "    if eps == np.pow(10, -5):\n",
        "        c1, c2 = find_c1_c2(points_xk_332_k1k2k3[-1], y1_prev, y2_prev)\n",
        "        points_xk_332_k1k2k3.append(xk + h_final)\n",
        "        y1_t, y2_t = general_solution(points_xk_332_k1k2k3[-1], c1, c2)\n",
        "\n",
        "        loc_err = np.sqrt((y1_k-y1_t)**2 + (y2_k-y2_t)**2)\n",
        "        errors_ratio_332_k1k2k3.append(loc_err / error)\n",
        "\n",
        "        y1_prev = y1_k\n",
        "        y2_prev = y2_k\n",
        "    # ---------------------------------------------------------\n",
        "    num_calculations_k1k2k3.append(cnt)\n",
        "    print(\"Absolute error = \", y1_pi_true - y1_k, y2_pi_true - y2_k)\n",
        "    print()"
      ]
    },
    {
      "cell_type": "code",
      "execution_count": null,
      "metadata": {
        "id": "L39_FtxA83cQ"
      },
      "outputs": [],
      "source": [
        "plt.figure(figsize=(10, 5))\n",
        "plt.scatter(points_xk_332_k1k2, errors_ratio_332_k1k2, color='orange')\n",
        "plt.plot(points_xk_332_k1k2, errors_ratio_332_k1k2, c = 'purple', ls = '--', label = 'k1,k2')\n",
        "\n",
        "plt.scatter(points_xk_332_k1k2k3, errors_ratio_332_k1k2k3, color='red')\n",
        "plt.plot(points_xk_332_k1k2k3, errors_ratio_332_k1k2k3, c='blue', ls = '--', label = 'k1,k2,k3')\n",
        "\n",
        "plt.xlabel('$x$')\n",
        "plt.ylabel('error ratio')\n",
        "plt.grid()\n",
        "plt.legend(loc='best')"
      ]
    },
    {
      "cell_type": "markdown",
      "metadata": {
        "id": "j_fO9bsl83cR"
      },
      "source": [
        "# 3.3.3"
      ]
    },
    {
      "cell_type": "markdown",
      "metadata": {
        "id": "vn4GFHHj83cS"
      },
      "source": [
        "Графики зависимости количества вычислений правой части системы от заданной \n",
        "точности 𝜀 (например, 𝜀 = 10−1, 10−2, 10−3, 10−4, 10−5 )"
      ]
    },
    {
      "cell_type": "code",
      "execution_count": null,
      "metadata": {
        "id": "jd4_X34a83cS"
      },
      "outputs": [],
      "source": [
        "print('eps list =', eps_points)\n",
        "print('k1,k2 num steps =', num_calculations_k1k2)\n",
        "print('k1,k2,k3 num steps =', num_calculations_k1k2k3)"
      ]
    },
    {
      "cell_type": "code",
      "execution_count": null,
      "metadata": {
        "id": "LX8O4d8Y83cT"
      },
      "outputs": [],
      "source": [
        "plt.figure(figsize=(10, 5))\n",
        "\n",
        "plt.scatter(eps_points[:-3], num_calculations_k1k2[:-3], color='orange')\n",
        "plt.plot(eps_points[:-3], num_calculations_k1k2[:-3], c = 'purple', ls = '--', label = 'k1,k2')\n",
        "\n",
        "plt.scatter(eps_points[:-3], num_calculations_k1k2k3[:-3], color='red')\n",
        "plt.plot(eps_points[:-3], num_calculations_k1k2k3[:-3], c = 'blue', ls = '--', label = 'k1,k2,k3')\n",
        "\n",
        "plt.xlabel('$\\epsilon$')\n",
        "plt.ylabel('num calculations')\n",
        "plt.grid()\n",
        "plt.legend(loc='best')"
      ]
    },
    {
      "cell_type": "code",
      "execution_count": null,
      "metadata": {
        "id": "8GGCmvoW83cU"
      },
      "outputs": [],
      "source": [
        ""
      ]
    }
  ],
  "metadata": {
    "kernelspec": {
      "display_name": "Python 3",
      "language": "python",
      "name": "python3"
    },
    "language_info": {
      "codemirror_mode": {
        "name": "ipython",
        "version": 3
      },
      "file_extension": ".py",
      "mimetype": "text/x-python",
      "name": "python",
      "nbconvert_exporter": "python",
      "pygments_lexer": "ipython3",
      "version": "3.8.5"
    },
    "colab": {
      "name": "Metody-Runge-Kutty.ipynb",
      "provenance": [],
      "collapsed_sections": [],
      "include_colab_link": true
    }
  },
  "nbformat": 4,
  "nbformat_minor": 0
}